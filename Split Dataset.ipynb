{
 "cells": [
  {
   "cell_type": "code",
   "execution_count": 1,
   "id": "98334359-c1ef-40a1-885a-07af0d88ea10",
   "metadata": {},
   "outputs": [],
   "source": [
    "import os\n",
    "import shutil\n",
    "import random\n",
    "from collections import defaultdict\n"
   ]
  },
  {
   "cell_type": "code",
   "execution_count": 3,
   "id": "30363c4e-f6ea-42e5-a1d0-0879faede7f9",
   "metadata": {},
   "outputs": [],
   "source": [
    "def count_images(directory):\n",
    "    class_counts = defaultdict(int)  # Untuk menyimpan jumlah gambar per kelas\n",
    "    for cls in os.listdir(directory):\n",
    "        class_dir = os.path.join(directory, cls)\n",
    "        if os.path.isdir(class_dir):\n",
    "            class_counts[cls] = len(os.listdir(class_dir))  # Hitung jumlah gambar per kelas\n",
    "    return class_counts\n"
   ]
  },
  {
   "cell_type": "code",
   "execution_count": 5,
   "id": "79b11ce7-5850-422e-95f3-50e0d65eb509",
   "metadata": {},
   "outputs": [],
   "source": [
    "# Path ke folder dataset asli\n",
    "dataset_dir = 'C:\\\\Users\\\\ASUS\\\\OneDrive\\\\Documents\\\\tomat'\n",
    "\n",
    "# Path untuk menyimpan data yang telah di-split\n",
    "train_dir = 'C:\\\\Users\\\\ASUS\\\\OneDrive\\\\Documents\\\\split_dataset\\\\train'\n",
    "val_dir = 'C:\\\\Users\\\\ASUS\\\\OneDrive\\\\Documents\\\\split_dataset\\\\val'\n",
    "test_dir = 'C:\\\\Users\\\\ASUS\\\\OneDrive\\\\Documents\\\\split_dataset\\\\test'\n",
    "\n",
    "# Membuat folder train, val, dan test jika belum ada\n",
    "os.makedirs(train_dir, exist_ok=True)\n",
    "os.makedirs(val_dir, exist_ok=True)\n",
    "os.makedirs(test_dir, exist_ok=True)\n"
   ]
  },
  {
   "cell_type": "code",
   "execution_count": 7,
   "id": "e9c912f9-41a6-4245-91d9-0c8e4ebf1e89",
   "metadata": {},
   "outputs": [
    {
     "name": "stdout",
     "output_type": "stream",
     "text": [
      "Kelas yang ditemukan: ['Tomato___Bacterial_spot', 'Tomato___Early_blight', 'Tomato___healthy', 'Tomato___Late_blight', 'Tomato___Leaf_Mold', 'Tomato___Septoria_leaf_spot', 'Tomato___Spider_mites Two-spotted_spider_mite', 'Tomato___Target_Spot', 'Tomato___Tomato_mosaic_virus', 'Tomato___Tomato_Yellow_Leaf_Curl_Virus']\n"
     ]
    }
   ],
   "source": [
    "# Mendapatkan list semua kelas dalam dataset (setiap kelas adalah subfolder)\n",
    "classes = os.listdir(dataset_dir)\n",
    "print(\"Kelas yang ditemukan:\", classes)  # Cek apakah semua kelas muncul\n"
   ]
  },
  {
   "cell_type": "code",
   "execution_count": 9,
   "id": "16ce7aed-592e-40f7-a1e9-74b2bb950664",
   "metadata": {},
   "outputs": [
    {
     "name": "stdout",
     "output_type": "stream",
     "text": [
      "Jumlah gambar di kelas Tomato___Bacterial_spot: 2127\n",
      "Jumlah gambar di kelas Tomato___Early_blight: 1000\n",
      "Jumlah gambar di kelas Tomato___healthy: 1591\n",
      "Jumlah gambar di kelas Tomato___Late_blight: 1909\n",
      "Jumlah gambar di kelas Tomato___Leaf_Mold: 1000\n",
      "Jumlah gambar di kelas Tomato___Septoria_leaf_spot: 1771\n",
      "Jumlah gambar di kelas Tomato___Spider_mites Two-spotted_spider_mite: 1676\n",
      "Jumlah gambar di kelas Tomato___Target_Spot: 1404\n",
      "Jumlah gambar di kelas Tomato___Tomato_mosaic_virus: 1000\n",
      "Jumlah gambar di kelas Tomato___Tomato_Yellow_Leaf_Curl_Virus: 5357\n"
     ]
    }
   ],
   "source": [
    "# Membuat dictionary untuk menyimpan path gambar dari setiap kelas\n",
    "class_images = {cls: [] for cls in classes}\n",
    "\n",
    "# Mengisi dictionary dengan path gambar dari setiap kelas\n",
    "for cls in classes:\n",
    "    class_dir = os.path.join(dataset_dir, cls)  # Path ke folder setiap kelas\n",
    "    images = os.listdir(class_dir)  # Mendapatkan list semua gambar dalam kelas\n",
    "    class_images[cls] = [os.path.join(class_dir, img) for img in images]  # Menyimpan path gambar dalam list\n",
    "    print(f\"Jumlah gambar di kelas {cls}: {len(images)}\")  # Pastikan setiap kelas ada gambarnya\n"
   ]
  },
  {
   "cell_type": "code",
   "execution_count": 13,
   "id": "a5140446-bbfe-4320-98c7-8ea6e4c974a0",
   "metadata": {},
   "outputs": [],
   "source": [
    "# Menyamakan jumlah gambar di setiap kelas dengan random sampling jika perlu (misalnya menjadi 800 gambar per kelas)\n",
    "target_size = 800\n",
    "\n",
    "# Dictionary untuk menyimpan gambar yang sudah disesuaikan per kelas\n",
    "balanced_images = {}\n",
    "\n",
    "for cls, images in class_images.items():\n",
    "    if len(images) > target_size:\n",
    "        balanced_images[cls] = random.sample(images, target_size)  # Random sampling jika gambar lebih banyak\n",
    "    else:\n",
    "        balanced_images[cls] = images  # Biarkan jika gambar sudah cukup atau kurang\n"
   ]
  },
  {
   "cell_type": "code",
   "execution_count": 15,
   "id": "2b7c3081-ac89-4afe-beb6-352fde2a6a2e",
   "metadata": {},
   "outputs": [
    {
     "name": "stdout",
     "output_type": "stream",
     "text": [
      "Memproses kelas Tomato___Bacterial_spot:\n",
      "Train images: 560, Val images: 120, Test images: 120\n",
      "Memproses kelas Tomato___Early_blight:\n",
      "Train images: 560, Val images: 120, Test images: 120\n",
      "Memproses kelas Tomato___healthy:\n",
      "Train images: 560, Val images: 120, Test images: 120\n",
      "Memproses kelas Tomato___Late_blight:\n",
      "Train images: 560, Val images: 120, Test images: 120\n",
      "Memproses kelas Tomato___Leaf_Mold:\n",
      "Train images: 560, Val images: 120, Test images: 120\n",
      "Memproses kelas Tomato___Septoria_leaf_spot:\n",
      "Train images: 560, Val images: 120, Test images: 120\n",
      "Memproses kelas Tomato___Spider_mites Two-spotted_spider_mite:\n",
      "Train images: 560, Val images: 120, Test images: 120\n",
      "Memproses kelas Tomato___Target_Spot:\n",
      "Train images: 560, Val images: 120, Test images: 120\n",
      "Memproses kelas Tomato___Tomato_mosaic_virus:\n",
      "Train images: 560, Val images: 120, Test images: 120\n",
      "Memproses kelas Tomato___Tomato_Yellow_Leaf_Curl_Virus:\n",
      "Train images: 560, Val images: 120, Test images: 120\n"
     ]
    }
   ],
   "source": [
    "# Tentukan jumlah data untuk train, val, dan test\n",
    "train_size = 560\n",
    "val_size = 120\n",
    "test_size = 120\n",
    "\n",
    "# Membagi gambar dari setiap kelas ke dalam train, val, dan test set secara manual\n",
    "for cls, images in balanced_images.items():\n",
    "    random.shuffle(images)  # Acak gambar\n",
    "    train_images = images[:train_size]  # Ambil 560 gambar untuk train\n",
    "    val_images = images[train_size:train_size + val_size]  # Ambil 120 gambar untuk validasi\n",
    "    test_images = images[train_size + val_size:train_size + val_size + test_size]  # Ambil 120 gambar untuk test\n",
    "    \n",
    "    # Pastikan setiap kelas diproses\n",
    "    print(f\"Memproses kelas {cls}:\")\n",
    "    print(f\"Train images: {len(train_images)}, Val images: {len(val_images)}, Test images: {len(test_images)}\")\n",
    "    \n",
    "    # Membuat folder untuk kelas saat ini dalam folder train, val, dan test\n",
    "    os.makedirs(os.path.join(train_dir, cls), exist_ok=True)\n",
    "    os.makedirs(os.path.join(val_dir, cls), exist_ok=True)\n",
    "    os.makedirs(os.path.join(test_dir, cls), exist_ok=True)\n",
    "\n",
    "    # Menyalin gambar train ke folder train/kelas\n",
    "    for img in train_images:\n",
    "        shutil.copy(img, os.path.join(train_dir, cls))\n",
    "\n",
    "    # Menyalin gambar val ke folder val/kelas\n",
    "    for img in val_images:\n",
    "        shutil.copy(img, os.path.join(val_dir, cls))\n",
    "\n",
    "    # Menyalin gambar test ke folder test/kelas\n",
    "    for img in test_images:\n",
    "        shutil.copy(img, os.path.join(test_dir, cls))\n"
   ]
  },
  {
   "cell_type": "code",
   "execution_count": 17,
   "id": "3949e4c8-9892-4ef6-b559-f65af0a371de",
   "metadata": {},
   "outputs": [
    {
     "name": "stdout",
     "output_type": "stream",
     "text": [
      "Distribusi data train: defaultdict(<class 'int'>, {'Tomato___Bacterial_spot': 560, 'Tomato___Early_blight': 560, 'Tomato___healthy': 560, 'Tomato___Late_blight': 560, 'Tomato___Leaf_Mold': 560, 'Tomato___Septoria_leaf_spot': 560, 'Tomato___Spider_mites Two-spotted_spider_mite': 560, 'Tomato___Target_Spot': 560, 'Tomato___Tomato_mosaic_virus': 560, 'Tomato___Tomato_Yellow_Leaf_Curl_Virus': 560})\n",
      "Distribusi data validasi: defaultdict(<class 'int'>, {'Tomato___Bacterial_spot': 120, 'Tomato___Early_blight': 120, 'Tomato___healthy': 120, 'Tomato___Late_blight': 120, 'Tomato___Leaf_Mold': 120, 'Tomato___Septoria_leaf_spot': 120, 'Tomato___Spider_mites Two-spotted_spider_mite': 120, 'Tomato___Target_Spot': 120, 'Tomato___Tomato_mosaic_virus': 120, 'Tomato___Tomato_Yellow_Leaf_Curl_Virus': 120})\n",
      "Distribusi data test: defaultdict(<class 'int'>, {'Tomato___Bacterial_spot': 120, 'Tomato___Early_blight': 120, 'Tomato___healthy': 120, 'Tomato___Late_blight': 120, 'Tomato___Leaf_Mold': 120, 'Tomato___Septoria_leaf_spot': 120, 'Tomato___Spider_mites Two-spotted_spider_mite': 120, 'Tomato___Target_Spot': 120, 'Tomato___Tomato_mosaic_virus': 120, 'Tomato___Tomato_Yellow_Leaf_Curl_Virus': 120})\n"
     ]
    }
   ],
   "source": [
    "# Mengecek distribusi data train, validasi, dan test\n",
    "train_counts = count_images(train_dir)  # Hitung jumlah gambar di folder train\n",
    "val_counts = count_images(val_dir)      # Hitung jumlah gambar di folder validasi\n",
    "test_counts = count_images(test_dir)    # Hitung jumlah gambar di folder test\n",
    "\n",
    "# Menampilkan hasil distribusi data untuk setiap kelas\n",
    "print(\"Distribusi data train:\", train_counts)\n",
    "print(\"Distribusi data validasi:\", val_counts)\n",
    "print(\"Distribusi data test:\", test_counts)\n"
   ]
  },
  {
   "cell_type": "code",
   "execution_count": null,
   "id": "7903fbc0-c440-4def-8ca5-5ba21e7da9bb",
   "metadata": {},
   "outputs": [],
   "source": []
  }
 ],
 "metadata": {
  "kernelspec": {
   "display_name": "Python (tf_env)",
   "language": "python",
   "name": "tf_env"
  },
  "language_info": {
   "codemirror_mode": {
    "name": "ipython",
    "version": 3
   },
   "file_extension": ".py",
   "mimetype": "text/x-python",
   "name": "python",
   "nbconvert_exporter": "python",
   "pygments_lexer": "ipython3",
   "version": "3.8.20"
  }
 },
 "nbformat": 4,
 "nbformat_minor": 5
}
